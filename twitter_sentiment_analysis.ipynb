{
  "metadata": {
    "kernelspec": {
      "language": "python",
      "display_name": "Python 3",
      "name": "python3"
    },
    "language_info": {
      "pygments_lexer": "ipython3",
      "nbconvert_exporter": "python",
      "version": "3.6.4",
      "file_extension": ".py",
      "codemirror_mode": {
        "name": "ipython",
        "version": 3
      },
      "name": "python",
      "mimetype": "text/x-python"
    },
    "colab": {
      "name": "twitter-sentiment-analysis.ipynb",
      "provenance": []
    }
  },
  "nbformat_minor": 0,
  "nbformat": 4,
  "cells": [
    {
      "cell_type": "code",
      "source": [
        "#Import revelant libraries\n",
        "import pandas as pd\n",
        "import numpy as np\n",
        "import nltk\n",
        "import string\n",
        "import re\n",
        "#Downloading revelant content\n",
        "nltk.download('stopwords')\n",
        "nltk.download('punkt')\n",
        "nltk.download('wordnet')\n",
        "from nltk import sent_tokenize,word_tokenize\n",
        "from nltk.corpus import stopwords\n",
        "from tqdm import tqdm\n",
        "from nltk.stem.porter import *\n",
        "from nltk.stem import WordNetLemmatizer\n",
        "from sklearn.feature_extraction.text import CountVectorizer\n",
        "from sklearn.preprocessing import OneHotEncoder\n",
        "from sklearn.model_selection import train_test_split\n",
        "# Tensorflow (Model)\n",
        "import tensorflow as tf"
      ],
      "metadata": {
        "execution": {
          "iopub.status.busy": "2022-01-25T15:54:55.842542Z",
          "iopub.execute_input": "2022-01-25T15:54:55.842876Z",
          "iopub.status.idle": "2022-01-25T15:55:02.509419Z",
          "shell.execute_reply.started": "2022-01-25T15:54:55.842792Z",
          "shell.execute_reply": "2022-01-25T15:55:02.508407Z"
        },
        "trusted": true,
        "colab": {
          "base_uri": "https://localhost:8080/"
        },
        "id": "hmS-wbR1Qzwn",
        "outputId": "eb420606-65ee-4e07-936d-0ce8b99922e6"
      },
      "execution_count": 1,
      "outputs": [
        {
          "output_type": "stream",
          "name": "stdout",
          "text": [
            "[nltk_data] Downloading package stopwords to /root/nltk_data...\n",
            "[nltk_data]   Package stopwords is already up-to-date!\n",
            "[nltk_data] Downloading package punkt to /root/nltk_data...\n",
            "[nltk_data]   Package punkt is already up-to-date!\n",
            "[nltk_data] Downloading package wordnet to /root/nltk_data...\n",
            "[nltk_data]   Package wordnet is already up-to-date!\n"
          ]
        }
      ]
    },
    {
      "cell_type": "markdown",
      "source": [
        "## Importing Dataset\n",
        "\n",
        "**Dataset consists of two types set:**\n",
        "* Training Set\n",
        "* Test or Validation Set"
      ],
      "metadata": {
        "id": "oJrYnUI1Qzwx"
      }
    },
    {
      "cell_type": "code",
      "source": [
        "# Renaming Columns name \n",
        "colnames=['TweetId', 'Entity', 'Output', 'Tweet']\n",
        "\n",
        "data = pd.read_csv('/content/twitter_validation.csv', names=colnames, header=None)"
      ],
      "metadata": {
        "execution": {
          "iopub.status.busy": "2022-01-25T15:55:02.511818Z",
          "iopub.execute_input": "2022-01-25T15:55:02.512145Z",
          "iopub.status.idle": "2022-01-25T15:55:02.540671Z",
          "shell.execute_reply.started": "2022-01-25T15:55:02.512102Z",
          "shell.execute_reply": "2022-01-25T15:55:02.539831Z"
        },
        "trusted": true,
        "id": "oC9JOvF3Qzw0"
      },
      "execution_count": 2,
      "outputs": []
    },
    {
      "cell_type": "code",
      "source": [
        "#Main list consists of cleaned data\n",
        "main = []\n",
        "\n",
        "# Storing all punctuations using RE library like !;,\"% etc\n",
        "re_puncs = re.compile('[%s]' % re.escape(string.punctuation))\n",
        "# Storing all stop words like a, an, the, when, there, this etc\n",
        "stop_word  = set(stopwords.words('english'))\n",
        "# Making Lemmatizing object\n",
        "lem = WordNetLemmatizer()\n",
        "# Using Porter Stemmer\n",
        "p_stem = PorterStemmer()\n",
        "\n",
        "# Traversing whole dataset\n",
        "for i in tqdm(range(len(data['Tweet']))):\n",
        "    # Tokenization\n",
        "    tokens = word_tokenize(str(data['Tweet'][i]))\n",
        "    # Converting all characters to lower case\n",
        "    tokens = [w.lower() for w in tokens]\n",
        "    # Remove all punctuations from sentenses\n",
        "    tokens = [re_puncs.sub('', w) for w in tokens]\n",
        "    # Checking all words is alphabets or not\n",
        "    tokens = [i for i in tokens if i.isalpha()]\n",
        "    # Removing all stop words from the sentenses\n",
        "    tokens = [w for w in tokens if w not in stop_word]\n",
        "    # Doing Lemmatizing of words\n",
        "    tokens = [lem.lemmatize(w) for w in tokens]\n",
        "    # Stemming process\n",
        "    tokens = [p_stem.stem(w) for w in tokens]\n",
        "    # Finally convert to string\n",
        "    r = ' '.join(tokens)\n",
        "    # Storing the final string into main list\n",
        "    main.append(r)"
      ],
      "metadata": {
        "execution": {
          "iopub.status.busy": "2022-01-25T15:55:02.542095Z",
          "iopub.execute_input": "2022-01-25T15:55:02.543006Z",
          "iopub.status.idle": "2022-01-25T15:55:05.767744Z",
          "shell.execute_reply.started": "2022-01-25T15:55:02.542953Z",
          "shell.execute_reply": "2022-01-25T15:55:05.766689Z"
        },
        "trusted": true,
        "colab": {
          "base_uri": "https://localhost:8080/"
        },
        "id": "ryDyVLagQzw1",
        "outputId": "b51d5b76-37c4-41f7-d3bb-ce02edad4f77"
      },
      "execution_count": 3,
      "outputs": [
        {
          "output_type": "stream",
          "name": "stderr",
          "text": [
            "100%|██████████| 1000/1000 [00:02<00:00, 351.86it/s]\n"
          ]
        }
      ]
    },
    {
      "cell_type": "code",
      "source": [
        "# Display the first five rows of dataframe\n",
        "data.head()"
      ],
      "metadata": {
        "execution": {
          "iopub.status.busy": "2022-01-25T15:55:05.769791Z",
          "iopub.execute_input": "2022-01-25T15:55:05.770406Z",
          "iopub.status.idle": "2022-01-25T15:55:05.791075Z",
          "shell.execute_reply.started": "2022-01-25T15:55:05.77036Z",
          "shell.execute_reply": "2022-01-25T15:55:05.789824Z"
        },
        "trusted": true,
        "colab": {
          "base_uri": "https://localhost:8080/",
          "height": 206
        },
        "id": "mbXfvwDsQzw3",
        "outputId": "19dd4eae-b39e-44fb-fb7a-6a3e6c9054b9"
      },
      "execution_count": 4,
      "outputs": [
        {
          "output_type": "execute_result",
          "data": {
            "text/plain": [
              "   TweetId     Entity      Output  \\\n",
              "0     3364   Facebook  Irrelevant   \n",
              "1      352     Amazon     Neutral   \n",
              "2     8312  Microsoft    Negative   \n",
              "3     4371      CS-GO    Negative   \n",
              "4     4433     Google     Neutral   \n",
              "\n",
              "                                               Tweet  \n",
              "0  I mentioned on Facebook that I was struggling ...  \n",
              "1  BBC News - Amazon boss Jeff Bezos rejects clai...  \n",
              "2  @Microsoft Why do I pay for WORD when it funct...  \n",
              "3  CSGO matchmaking is so full of closet hacking,...  \n",
              "4  Now the President is slapping Americans in the...  "
            ],
            "text/html": [
              "\n",
              "  <div id=\"df-b784f11f-4416-4261-9201-7d4a56b9808f\">\n",
              "    <div class=\"colab-df-container\">\n",
              "      <div>\n",
              "<style scoped>\n",
              "    .dataframe tbody tr th:only-of-type {\n",
              "        vertical-align: middle;\n",
              "    }\n",
              "\n",
              "    .dataframe tbody tr th {\n",
              "        vertical-align: top;\n",
              "    }\n",
              "\n",
              "    .dataframe thead th {\n",
              "        text-align: right;\n",
              "    }\n",
              "</style>\n",
              "<table border=\"1\" class=\"dataframe\">\n",
              "  <thead>\n",
              "    <tr style=\"text-align: right;\">\n",
              "      <th></th>\n",
              "      <th>TweetId</th>\n",
              "      <th>Entity</th>\n",
              "      <th>Output</th>\n",
              "      <th>Tweet</th>\n",
              "    </tr>\n",
              "  </thead>\n",
              "  <tbody>\n",
              "    <tr>\n",
              "      <th>0</th>\n",
              "      <td>3364</td>\n",
              "      <td>Facebook</td>\n",
              "      <td>Irrelevant</td>\n",
              "      <td>I mentioned on Facebook that I was struggling ...</td>\n",
              "    </tr>\n",
              "    <tr>\n",
              "      <th>1</th>\n",
              "      <td>352</td>\n",
              "      <td>Amazon</td>\n",
              "      <td>Neutral</td>\n",
              "      <td>BBC News - Amazon boss Jeff Bezos rejects clai...</td>\n",
              "    </tr>\n",
              "    <tr>\n",
              "      <th>2</th>\n",
              "      <td>8312</td>\n",
              "      <td>Microsoft</td>\n",
              "      <td>Negative</td>\n",
              "      <td>@Microsoft Why do I pay for WORD when it funct...</td>\n",
              "    </tr>\n",
              "    <tr>\n",
              "      <th>3</th>\n",
              "      <td>4371</td>\n",
              "      <td>CS-GO</td>\n",
              "      <td>Negative</td>\n",
              "      <td>CSGO matchmaking is so full of closet hacking,...</td>\n",
              "    </tr>\n",
              "    <tr>\n",
              "      <th>4</th>\n",
              "      <td>4433</td>\n",
              "      <td>Google</td>\n",
              "      <td>Neutral</td>\n",
              "      <td>Now the President is slapping Americans in the...</td>\n",
              "    </tr>\n",
              "  </tbody>\n",
              "</table>\n",
              "</div>\n",
              "      <button class=\"colab-df-convert\" onclick=\"convertToInteractive('df-b784f11f-4416-4261-9201-7d4a56b9808f')\"\n",
              "              title=\"Convert this dataframe to an interactive table.\"\n",
              "              style=\"display:none;\">\n",
              "        \n",
              "  <svg xmlns=\"http://www.w3.org/2000/svg\" height=\"24px\"viewBox=\"0 0 24 24\"\n",
              "       width=\"24px\">\n",
              "    <path d=\"M0 0h24v24H0V0z\" fill=\"none\"/>\n",
              "    <path d=\"M18.56 5.44l.94 2.06.94-2.06 2.06-.94-2.06-.94-.94-2.06-.94 2.06-2.06.94zm-11 1L8.5 8.5l.94-2.06 2.06-.94-2.06-.94L8.5 2.5l-.94 2.06-2.06.94zm10 10l.94 2.06.94-2.06 2.06-.94-2.06-.94-.94-2.06-.94 2.06-2.06.94z\"/><path d=\"M17.41 7.96l-1.37-1.37c-.4-.4-.92-.59-1.43-.59-.52 0-1.04.2-1.43.59L10.3 9.45l-7.72 7.72c-.78.78-.78 2.05 0 2.83L4 21.41c.39.39.9.59 1.41.59.51 0 1.02-.2 1.41-.59l7.78-7.78 2.81-2.81c.8-.78.8-2.07 0-2.86zM5.41 20L4 18.59l7.72-7.72 1.47 1.35L5.41 20z\"/>\n",
              "  </svg>\n",
              "      </button>\n",
              "      \n",
              "  <style>\n",
              "    .colab-df-container {\n",
              "      display:flex;\n",
              "      flex-wrap:wrap;\n",
              "      gap: 12px;\n",
              "    }\n",
              "\n",
              "    .colab-df-convert {\n",
              "      background-color: #E8F0FE;\n",
              "      border: none;\n",
              "      border-radius: 50%;\n",
              "      cursor: pointer;\n",
              "      display: none;\n",
              "      fill: #1967D2;\n",
              "      height: 32px;\n",
              "      padding: 0 0 0 0;\n",
              "      width: 32px;\n",
              "    }\n",
              "\n",
              "    .colab-df-convert:hover {\n",
              "      background-color: #E2EBFA;\n",
              "      box-shadow: 0px 1px 2px rgba(60, 64, 67, 0.3), 0px 1px 3px 1px rgba(60, 64, 67, 0.15);\n",
              "      fill: #174EA6;\n",
              "    }\n",
              "\n",
              "    [theme=dark] .colab-df-convert {\n",
              "      background-color: #3B4455;\n",
              "      fill: #D2E3FC;\n",
              "    }\n",
              "\n",
              "    [theme=dark] .colab-df-convert:hover {\n",
              "      background-color: #434B5C;\n",
              "      box-shadow: 0px 1px 3px 1px rgba(0, 0, 0, 0.15);\n",
              "      filter: drop-shadow(0px 1px 2px rgba(0, 0, 0, 0.3));\n",
              "      fill: #FFFFFF;\n",
              "    }\n",
              "  </style>\n",
              "\n",
              "      <script>\n",
              "        const buttonEl =\n",
              "          document.querySelector('#df-b784f11f-4416-4261-9201-7d4a56b9808f button.colab-df-convert');\n",
              "        buttonEl.style.display =\n",
              "          google.colab.kernel.accessAllowed ? 'block' : 'none';\n",
              "\n",
              "        async function convertToInteractive(key) {\n",
              "          const element = document.querySelector('#df-b784f11f-4416-4261-9201-7d4a56b9808f');\n",
              "          const dataTable =\n",
              "            await google.colab.kernel.invokeFunction('convertToInteractive',\n",
              "                                                     [key], {});\n",
              "          if (!dataTable) return;\n",
              "\n",
              "          const docLinkHtml = 'Like what you see? Visit the ' +\n",
              "            '<a target=\"_blank\" href=https://colab.research.google.com/notebooks/data_table.ipynb>data table notebook</a>'\n",
              "            + ' to learn more about interactive tables.';\n",
              "          element.innerHTML = '';\n",
              "          dataTable['output_type'] = 'display_data';\n",
              "          await google.colab.output.renderOutput(dataTable, element);\n",
              "          const docLink = document.createElement('div');\n",
              "          docLink.innerHTML = docLinkHtml;\n",
              "          element.appendChild(docLink);\n",
              "        }\n",
              "      </script>\n",
              "    </div>\n",
              "  </div>\n",
              "  "
            ]
          },
          "metadata": {},
          "execution_count": 4
        }
      ]
    },
    {
      "cell_type": "code",
      "source": [
        "# Assigning a new column in the dataframe\n",
        "data['Preprocess_Tweet'] = main\n",
        "# Dropping old column which consists unstructred data =\n",
        "data = data.drop('Tweet', axis = 1)"
      ],
      "metadata": {
        "execution": {
          "iopub.status.busy": "2022-01-25T15:55:05.794288Z",
          "iopub.execute_input": "2022-01-25T15:55:05.794959Z",
          "iopub.status.idle": "2022-01-25T15:55:05.806519Z",
          "shell.execute_reply.started": "2022-01-25T15:55:05.794913Z",
          "shell.execute_reply": "2022-01-25T15:55:05.805538Z"
        },
        "trusted": true,
        "id": "30hO_lfNQzw3"
      },
      "execution_count": 5,
      "outputs": []
    },
    {
      "cell_type": "code",
      "source": [
        "# Display the first five rows of dataframe\n",
        "data.head()"
      ],
      "metadata": {
        "execution": {
          "iopub.status.busy": "2022-01-25T15:55:05.807618Z",
          "iopub.execute_input": "2022-01-25T15:55:05.807834Z",
          "iopub.status.idle": "2022-01-25T15:55:05.832732Z",
          "shell.execute_reply.started": "2022-01-25T15:55:05.807806Z",
          "shell.execute_reply": "2022-01-25T15:55:05.831358Z"
        },
        "trusted": true,
        "colab": {
          "base_uri": "https://localhost:8080/",
          "height": 206
        },
        "id": "EKviCtUTQzw4",
        "outputId": "1e3a6232-cd4d-48cd-ca64-9a595bdbff02"
      },
      "execution_count": 6,
      "outputs": [
        {
          "output_type": "execute_result",
          "data": {
            "text/plain": [
              "   TweetId     Entity      Output  \\\n",
              "0     3364   Facebook  Irrelevant   \n",
              "1      352     Amazon     Neutral   \n",
              "2     8312  Microsoft    Negative   \n",
              "3     4371      CS-GO    Negative   \n",
              "4     4433     Google     Neutral   \n",
              "\n",
              "                                    Preprocess_Tweet  \n",
              "0  mention facebook struggl motiv go run day tran...  \n",
              "1  bbc news amazon bo jeff bezo reject claim comp...  \n",
              "2  microsoft pay word function poorli samsungu ch...  \n",
              "3       csgo matchmak full closet hack truli aw game  \n",
              "4  presid slap american face realli commit unlaw ...  "
            ],
            "text/html": [
              "\n",
              "  <div id=\"df-ab32b711-19b3-40df-a1b8-54da1e71471b\">\n",
              "    <div class=\"colab-df-container\">\n",
              "      <div>\n",
              "<style scoped>\n",
              "    .dataframe tbody tr th:only-of-type {\n",
              "        vertical-align: middle;\n",
              "    }\n",
              "\n",
              "    .dataframe tbody tr th {\n",
              "        vertical-align: top;\n",
              "    }\n",
              "\n",
              "    .dataframe thead th {\n",
              "        text-align: right;\n",
              "    }\n",
              "</style>\n",
              "<table border=\"1\" class=\"dataframe\">\n",
              "  <thead>\n",
              "    <tr style=\"text-align: right;\">\n",
              "      <th></th>\n",
              "      <th>TweetId</th>\n",
              "      <th>Entity</th>\n",
              "      <th>Output</th>\n",
              "      <th>Preprocess_Tweet</th>\n",
              "    </tr>\n",
              "  </thead>\n",
              "  <tbody>\n",
              "    <tr>\n",
              "      <th>0</th>\n",
              "      <td>3364</td>\n",
              "      <td>Facebook</td>\n",
              "      <td>Irrelevant</td>\n",
              "      <td>mention facebook struggl motiv go run day tran...</td>\n",
              "    </tr>\n",
              "    <tr>\n",
              "      <th>1</th>\n",
              "      <td>352</td>\n",
              "      <td>Amazon</td>\n",
              "      <td>Neutral</td>\n",
              "      <td>bbc news amazon bo jeff bezo reject claim comp...</td>\n",
              "    </tr>\n",
              "    <tr>\n",
              "      <th>2</th>\n",
              "      <td>8312</td>\n",
              "      <td>Microsoft</td>\n",
              "      <td>Negative</td>\n",
              "      <td>microsoft pay word function poorli samsungu ch...</td>\n",
              "    </tr>\n",
              "    <tr>\n",
              "      <th>3</th>\n",
              "      <td>4371</td>\n",
              "      <td>CS-GO</td>\n",
              "      <td>Negative</td>\n",
              "      <td>csgo matchmak full closet hack truli aw game</td>\n",
              "    </tr>\n",
              "    <tr>\n",
              "      <th>4</th>\n",
              "      <td>4433</td>\n",
              "      <td>Google</td>\n",
              "      <td>Neutral</td>\n",
              "      <td>presid slap american face realli commit unlaw ...</td>\n",
              "    </tr>\n",
              "  </tbody>\n",
              "</table>\n",
              "</div>\n",
              "      <button class=\"colab-df-convert\" onclick=\"convertToInteractive('df-ab32b711-19b3-40df-a1b8-54da1e71471b')\"\n",
              "              title=\"Convert this dataframe to an interactive table.\"\n",
              "              style=\"display:none;\">\n",
              "        \n",
              "  <svg xmlns=\"http://www.w3.org/2000/svg\" height=\"24px\"viewBox=\"0 0 24 24\"\n",
              "       width=\"24px\">\n",
              "    <path d=\"M0 0h24v24H0V0z\" fill=\"none\"/>\n",
              "    <path d=\"M18.56 5.44l.94 2.06.94-2.06 2.06-.94-2.06-.94-.94-2.06-.94 2.06-2.06.94zm-11 1L8.5 8.5l.94-2.06 2.06-.94-2.06-.94L8.5 2.5l-.94 2.06-2.06.94zm10 10l.94 2.06.94-2.06 2.06-.94-2.06-.94-.94-2.06-.94 2.06-2.06.94z\"/><path d=\"M17.41 7.96l-1.37-1.37c-.4-.4-.92-.59-1.43-.59-.52 0-1.04.2-1.43.59L10.3 9.45l-7.72 7.72c-.78.78-.78 2.05 0 2.83L4 21.41c.39.39.9.59 1.41.59.51 0 1.02-.2 1.41-.59l7.78-7.78 2.81-2.81c.8-.78.8-2.07 0-2.86zM5.41 20L4 18.59l7.72-7.72 1.47 1.35L5.41 20z\"/>\n",
              "  </svg>\n",
              "      </button>\n",
              "      \n",
              "  <style>\n",
              "    .colab-df-container {\n",
              "      display:flex;\n",
              "      flex-wrap:wrap;\n",
              "      gap: 12px;\n",
              "    }\n",
              "\n",
              "    .colab-df-convert {\n",
              "      background-color: #E8F0FE;\n",
              "      border: none;\n",
              "      border-radius: 50%;\n",
              "      cursor: pointer;\n",
              "      display: none;\n",
              "      fill: #1967D2;\n",
              "      height: 32px;\n",
              "      padding: 0 0 0 0;\n",
              "      width: 32px;\n",
              "    }\n",
              "\n",
              "    .colab-df-convert:hover {\n",
              "      background-color: #E2EBFA;\n",
              "      box-shadow: 0px 1px 2px rgba(60, 64, 67, 0.3), 0px 1px 3px 1px rgba(60, 64, 67, 0.15);\n",
              "      fill: #174EA6;\n",
              "    }\n",
              "\n",
              "    [theme=dark] .colab-df-convert {\n",
              "      background-color: #3B4455;\n",
              "      fill: #D2E3FC;\n",
              "    }\n",
              "\n",
              "    [theme=dark] .colab-df-convert:hover {\n",
              "      background-color: #434B5C;\n",
              "      box-shadow: 0px 1px 3px 1px rgba(0, 0, 0, 0.15);\n",
              "      filter: drop-shadow(0px 1px 2px rgba(0, 0, 0, 0.3));\n",
              "      fill: #FFFFFF;\n",
              "    }\n",
              "  </style>\n",
              "\n",
              "      <script>\n",
              "        const buttonEl =\n",
              "          document.querySelector('#df-ab32b711-19b3-40df-a1b8-54da1e71471b button.colab-df-convert');\n",
              "        buttonEl.style.display =\n",
              "          google.colab.kernel.accessAllowed ? 'block' : 'none';\n",
              "\n",
              "        async function convertToInteractive(key) {\n",
              "          const element = document.querySelector('#df-ab32b711-19b3-40df-a1b8-54da1e71471b');\n",
              "          const dataTable =\n",
              "            await google.colab.kernel.invokeFunction('convertToInteractive',\n",
              "                                                     [key], {});\n",
              "          if (!dataTable) return;\n",
              "\n",
              "          const docLinkHtml = 'Like what you see? Visit the ' +\n",
              "            '<a target=\"_blank\" href=https://colab.research.google.com/notebooks/data_table.ipynb>data table notebook</a>'\n",
              "            + ' to learn more about interactive tables.';\n",
              "          element.innerHTML = '';\n",
              "          dataTable['output_type'] = 'display_data';\n",
              "          await google.colab.output.renderOutput(dataTable, element);\n",
              "          const docLink = document.createElement('div');\n",
              "          docLink.innerHTML = docLinkHtml;\n",
              "          element.appendChild(docLink);\n",
              "        }\n",
              "      </script>\n",
              "    </div>\n",
              "  </div>\n",
              "  "
            ]
          },
          "metadata": {},
          "execution_count": 6
        }
      ]
    },
    {
      "cell_type": "code",
      "source": [
        "# Converting the main into Vector using CountVectorizer and then convert it to array\n",
        "cnt = CountVectorizer(analyzer=\"word\")\n",
        "X = cnt.fit_transform(main).toarray()"
      ],
      "metadata": {
        "execution": {
          "iopub.status.busy": "2022-01-25T15:55:05.83518Z",
          "iopub.execute_input": "2022-01-25T15:55:05.836178Z",
          "iopub.status.idle": "2022-01-25T15:55:05.886242Z",
          "shell.execute_reply.started": "2022-01-25T15:55:05.836133Z",
          "shell.execute_reply": "2022-01-25T15:55:05.885175Z"
        },
        "trusted": true,
        "id": "yRVu5AKOQzw5"
      },
      "execution_count": 7,
      "outputs": []
    },
    {
      "cell_type": "code",
      "source": [
        "# Unique values in output column\n",
        "data['Output'].unique()"
      ],
      "metadata": {
        "execution": {
          "iopub.status.busy": "2022-01-25T15:55:05.88966Z",
          "iopub.execute_input": "2022-01-25T15:55:05.889902Z",
          "iopub.status.idle": "2022-01-25T15:55:05.898157Z",
          "shell.execute_reply.started": "2022-01-25T15:55:05.889874Z",
          "shell.execute_reply": "2022-01-25T15:55:05.897069Z"
        },
        "trusted": true,
        "colab": {
          "base_uri": "https://localhost:8080/"
        },
        "id": "7sN3oIPNQzw6",
        "outputId": "1d1552ac-be18-4d9b-9477-7354ce7b7c31"
      },
      "execution_count": 8,
      "outputs": [
        {
          "output_type": "execute_result",
          "data": {
            "text/plain": [
              "array(['Irrelevant', 'Neutral', 'Negative', 'Positive'], dtype=object)"
            ]
          },
          "metadata": {},
          "execution_count": 8
        }
      ]
    },
    {
      "cell_type": "code",
      "source": [
        "# Checking any NULL values\n",
        "data['Output'].isnull().sum()"
      ],
      "metadata": {
        "execution": {
          "iopub.status.busy": "2022-01-25T15:55:05.899996Z",
          "iopub.execute_input": "2022-01-25T15:55:05.90105Z",
          "iopub.status.idle": "2022-01-25T15:55:05.921571Z",
          "shell.execute_reply.started": "2022-01-25T15:55:05.901006Z",
          "shell.execute_reply": "2022-01-25T15:55:05.920482Z"
        },
        "trusted": true,
        "colab": {
          "base_uri": "https://localhost:8080/"
        },
        "id": "ZHLS92ATQzw7",
        "outputId": "8aae7ea0-01ac-4ac4-f4fa-6567898c538d"
      },
      "execution_count": 9,
      "outputs": [
        {
          "output_type": "execute_result",
          "data": {
            "text/plain": [
              "0"
            ]
          },
          "metadata": {},
          "execution_count": 9
        }
      ]
    },
    {
      "cell_type": "code",
      "source": [
        "# As output has four output so we convert labels to binary numbers\n",
        "enc = OneHotEncoder(handle_unknown='ignore')\n",
        "ip = np.array(data['Output'])\n",
        "ip = ip.reshape(-1, 1)\n",
        "y = enc.fit_transform(ip).toarray()"
      ],
      "metadata": {
        "execution": {
          "iopub.status.busy": "2022-01-25T15:55:05.923428Z",
          "iopub.execute_input": "2022-01-25T15:55:05.92403Z",
          "iopub.status.idle": "2022-01-25T15:55:05.937294Z",
          "shell.execute_reply.started": "2022-01-25T15:55:05.923984Z",
          "shell.execute_reply": "2022-01-25T15:55:05.936099Z"
        },
        "trusted": true,
        "id": "qYiZj0y2Qzw8"
      },
      "execution_count": 10,
      "outputs": []
    },
    {
      "cell_type": "code",
      "source": [
        "#Printing X (independent values)\n",
        "X"
      ],
      "metadata": {
        "execution": {
          "iopub.status.busy": "2022-01-25T15:55:05.939384Z",
          "iopub.execute_input": "2022-01-25T15:55:05.940458Z",
          "iopub.status.idle": "2022-01-25T15:55:05.951596Z",
          "shell.execute_reply.started": "2022-01-25T15:55:05.940409Z",
          "shell.execute_reply": "2022-01-25T15:55:05.950409Z"
        },
        "trusted": true,
        "colab": {
          "base_uri": "https://localhost:8080/"
        },
        "id": "Ac-C-_F9Qzw9",
        "outputId": "54b6f55e-2e6a-4989-961b-bb0da6273ec5"
      },
      "execution_count": 11,
      "outputs": [
        {
          "output_type": "execute_result",
          "data": {
            "text/plain": [
              "array([[0, 0, 0, ..., 0, 0, 0],\n",
              "       [0, 0, 0, ..., 0, 0, 0],\n",
              "       [0, 0, 0, ..., 0, 0, 0],\n",
              "       ...,\n",
              "       [0, 0, 0, ..., 0, 0, 0],\n",
              "       [0, 0, 0, ..., 0, 0, 0],\n",
              "       [0, 0, 0, ..., 0, 0, 0]])"
            ]
          },
          "metadata": {},
          "execution_count": 11
        }
      ]
    },
    {
      "cell_type": "code",
      "source": [
        "# Priniting (Dependent values)\n",
        "y"
      ],
      "metadata": {
        "execution": {
          "iopub.status.busy": "2022-01-25T15:55:05.953229Z",
          "iopub.execute_input": "2022-01-25T15:55:05.953997Z",
          "iopub.status.idle": "2022-01-25T15:55:05.961403Z",
          "shell.execute_reply.started": "2022-01-25T15:55:05.953785Z",
          "shell.execute_reply": "2022-01-25T15:55:05.960344Z"
        },
        "trusted": true,
        "colab": {
          "base_uri": "https://localhost:8080/"
        },
        "id": "irTmrBbrQzw9",
        "outputId": "c8e69362-7957-45df-d473-a1b72883e993"
      },
      "execution_count": 12,
      "outputs": [
        {
          "output_type": "execute_result",
          "data": {
            "text/plain": [
              "array([[1., 0., 0., 0.],\n",
              "       [0., 0., 1., 0.],\n",
              "       [0., 1., 0., 0.],\n",
              "       ...,\n",
              "       [0., 0., 0., 1.],\n",
              "       [0., 0., 0., 1.],\n",
              "       [0., 0., 1., 0.]])"
            ]
          },
          "metadata": {},
          "execution_count": 12
        }
      ]
    },
    {
      "cell_type": "code",
      "source": [
        "# Splitting data into training set and test set\n",
        "X_train, X_test, y_train, y_test = train_test_split(X, y, test_size = 0.2)"
      ],
      "metadata": {
        "execution": {
          "iopub.status.busy": "2022-01-25T15:55:05.96333Z",
          "iopub.execute_input": "2022-01-25T15:55:05.964034Z",
          "iopub.status.idle": "2022-01-25T15:55:05.988298Z",
          "shell.execute_reply.started": "2022-01-25T15:55:05.963989Z",
          "shell.execute_reply": "2022-01-25T15:55:05.987279Z"
        },
        "trusted": true,
        "id": "BHva8fxHQzw-"
      },
      "execution_count": 13,
      "outputs": []
    },
    {
      "cell_type": "code",
      "source": [
        "# Display training set (Independent Values)\n",
        "X_train"
      ],
      "metadata": {
        "execution": {
          "iopub.status.busy": "2022-01-25T15:55:05.993011Z",
          "iopub.execute_input": "2022-01-25T15:55:05.993246Z",
          "iopub.status.idle": "2022-01-25T15:55:05.999994Z",
          "shell.execute_reply.started": "2022-01-25T15:55:05.993216Z",
          "shell.execute_reply": "2022-01-25T15:55:05.998885Z"
        },
        "trusted": true,
        "colab": {
          "base_uri": "https://localhost:8080/"
        },
        "id": "hL15qkExQzw-",
        "outputId": "95b98b6a-134d-4384-d4e3-060378a0b5d3"
      },
      "execution_count": 14,
      "outputs": [
        {
          "output_type": "execute_result",
          "data": {
            "text/plain": [
              "array([[0, 0, 0, ..., 0, 0, 0],\n",
              "       [0, 0, 0, ..., 0, 0, 0],\n",
              "       [0, 0, 0, ..., 0, 0, 0],\n",
              "       ...,\n",
              "       [0, 0, 0, ..., 0, 0, 0],\n",
              "       [0, 0, 0, ..., 0, 0, 0],\n",
              "       [0, 0, 0, ..., 0, 0, 0]])"
            ]
          },
          "metadata": {},
          "execution_count": 14
        }
      ]
    },
    {
      "cell_type": "code",
      "source": [
        "# Display training set (dependent values)\n",
        "y_train"
      ],
      "metadata": {
        "execution": {
          "iopub.status.busy": "2022-01-25T15:55:06.001765Z",
          "iopub.execute_input": "2022-01-25T15:55:06.002556Z",
          "iopub.status.idle": "2022-01-25T15:55:06.013013Z",
          "shell.execute_reply.started": "2022-01-25T15:55:06.002511Z",
          "shell.execute_reply": "2022-01-25T15:55:06.012055Z"
        },
        "trusted": true,
        "colab": {
          "base_uri": "https://localhost:8080/"
        },
        "id": "MhvpFFUQQzw_",
        "outputId": "07af5e3c-728d-476d-82e1-a3240b83e720"
      },
      "execution_count": 15,
      "outputs": [
        {
          "output_type": "execute_result",
          "data": {
            "text/plain": [
              "array([[0., 0., 1., 0.],\n",
              "       [0., 1., 0., 0.],\n",
              "       [0., 0., 1., 0.],\n",
              "       ...,\n",
              "       [1., 0., 0., 0.],\n",
              "       [0., 1., 0., 0.],\n",
              "       [0., 0., 1., 0.]])"
            ]
          },
          "metadata": {},
          "execution_count": 15
        }
      ]
    },
    {
      "cell_type": "code",
      "source": [
        "X_train.shape"
      ],
      "metadata": {
        "execution": {
          "iopub.status.busy": "2022-01-25T15:55:06.014642Z",
          "iopub.execute_input": "2022-01-25T15:55:06.015294Z",
          "iopub.status.idle": "2022-01-25T15:55:06.025466Z",
          "shell.execute_reply.started": "2022-01-25T15:55:06.015248Z",
          "shell.execute_reply": "2022-01-25T15:55:06.024048Z"
        },
        "trusted": true,
        "colab": {
          "base_uri": "https://localhost:8080/"
        },
        "id": "d4nawL9UQzw_",
        "outputId": "4ea44866-f75b-4cb1-b79d-eaf7bce98522"
      },
      "execution_count": 16,
      "outputs": [
        {
          "output_type": "execute_result",
          "data": {
            "text/plain": [
              "(800, 3786)"
            ]
          },
          "metadata": {},
          "execution_count": 16
        }
      ]
    },
    {
      "cell_type": "code",
      "source": [
        "from sklearn.feature_extraction.text import TfidfTransformer"
      ],
      "metadata": {
        "execution": {
          "iopub.status.busy": "2022-01-25T15:55:06.027133Z",
          "iopub.execute_input": "2022-01-25T15:55:06.028473Z",
          "iopub.status.idle": "2022-01-25T15:55:06.034405Z",
          "shell.execute_reply.started": "2022-01-25T15:55:06.028423Z",
          "shell.execute_reply": "2022-01-25T15:55:06.033296Z"
        },
        "trusted": true,
        "id": "FiDR2kVHQzw_"
      },
      "execution_count": 17,
      "outputs": []
    },
    {
      "cell_type": "code",
      "source": [
        "tf_insta = TfidfTransformer()"
      ],
      "metadata": {
        "execution": {
          "iopub.status.busy": "2022-01-25T15:55:06.03614Z",
          "iopub.execute_input": "2022-01-25T15:55:06.037406Z",
          "iopub.status.idle": "2022-01-25T15:55:06.04444Z",
          "shell.execute_reply.started": "2022-01-25T15:55:06.037361Z",
          "shell.execute_reply": "2022-01-25T15:55:06.043357Z"
        },
        "trusted": true,
        "id": "ArsN6YfsQzxA"
      },
      "execution_count": 18,
      "outputs": []
    },
    {
      "cell_type": "code",
      "source": [
        "X_train_filter = tf_insta.fit_transform(X_train).toarray()"
      ],
      "metadata": {
        "execution": {
          "iopub.status.busy": "2022-01-25T15:55:06.046418Z",
          "iopub.execute_input": "2022-01-25T15:55:06.047606Z",
          "iopub.status.idle": "2022-01-25T15:55:06.140359Z",
          "shell.execute_reply.started": "2022-01-25T15:55:06.047559Z",
          "shell.execute_reply": "2022-01-25T15:55:06.13938Z"
        },
        "trusted": true,
        "id": "z3h05BvJQzxA"
      },
      "execution_count": 19,
      "outputs": []
    },
    {
      "cell_type": "code",
      "source": [
        "X_train_filter.shape"
      ],
      "metadata": {
        "execution": {
          "iopub.status.busy": "2022-01-25T15:55:06.141914Z",
          "iopub.execute_input": "2022-01-25T15:55:06.142412Z",
          "iopub.status.idle": "2022-01-25T15:55:06.150009Z",
          "shell.execute_reply.started": "2022-01-25T15:55:06.142358Z",
          "shell.execute_reply": "2022-01-25T15:55:06.148811Z"
        },
        "trusted": true,
        "colab": {
          "base_uri": "https://localhost:8080/"
        },
        "id": "GuMdLFbrQzxB",
        "outputId": "5d626cfc-481d-4bc5-dbf4-6c22ecb012c9"
      },
      "execution_count": 20,
      "outputs": [
        {
          "output_type": "execute_result",
          "data": {
            "text/plain": [
              "(800, 3786)"
            ]
          },
          "metadata": {},
          "execution_count": 20
        }
      ]
    },
    {
      "cell_type": "code",
      "source": [
        "X_train_filter.shape"
      ],
      "metadata": {
        "execution": {
          "iopub.status.busy": "2022-01-25T15:55:06.151934Z",
          "iopub.execute_input": "2022-01-25T15:55:06.152643Z",
          "iopub.status.idle": "2022-01-25T15:55:06.164126Z",
          "shell.execute_reply.started": "2022-01-25T15:55:06.152582Z",
          "shell.execute_reply": "2022-01-25T15:55:06.162894Z"
        },
        "trusted": true,
        "colab": {
          "base_uri": "https://localhost:8080/"
        },
        "id": "Dpg_VcdtQzxB",
        "outputId": "9da919d9-8acc-4107-8fa3-6d95a6a1720f"
      },
      "execution_count": 21,
      "outputs": [
        {
          "output_type": "execute_result",
          "data": {
            "text/plain": [
              "(800, 3786)"
            ]
          },
          "metadata": {},
          "execution_count": 21
        }
      ]
    },
    {
      "cell_type": "code",
      "source": [
        "y_train.shape"
      ],
      "metadata": {
        "execution": {
          "iopub.status.busy": "2022-01-25T15:55:06.167743Z",
          "iopub.execute_input": "2022-01-25T15:55:06.168459Z",
          "iopub.status.idle": "2022-01-25T15:55:06.175414Z",
          "shell.execute_reply.started": "2022-01-25T15:55:06.168425Z",
          "shell.execute_reply": "2022-01-25T15:55:06.174351Z"
        },
        "trusted": true,
        "colab": {
          "base_uri": "https://localhost:8080/"
        },
        "id": "_3oRKzX-QzxB",
        "outputId": "a23295c6-be50-42af-9008-aedb0b6c820f"
      },
      "execution_count": 22,
      "outputs": [
        {
          "output_type": "execute_result",
          "data": {
            "text/plain": [
              "(800, 4)"
            ]
          },
          "metadata": {},
          "execution_count": 22
        }
      ]
    },
    {
      "cell_type": "code",
      "source": [
        "#Test model\n",
        "model = tf.keras.models.Sequential([\n",
        "    tf.keras.layers.Dense(1024, input_dim=3786, activation='relu'),\n",
        "    tf.keras.layers.Dense(512, activation='relu'),\n",
        "    tf.keras.layers.Dense(256, activation='relu'),\n",
        "    tf.keras.layers.Dropout(0.1),\n",
        "    tf.keras.layers.Dense(128, activation='relu'),\n",
        "    tf.keras.layers.Dense(64, activation='relu'),\n",
        "    tf.keras.layers.Dense(4, activation='softmax')\n",
        "])\n",
        "model.compile(\n",
        "     loss='categorical_crossentropy',\n",
        "     optimizer='adam',\n",
        "     metrics=['accuracy']\n",
        ")"
      ],
      "metadata": {
        "execution": {
          "iopub.status.busy": "2022-01-25T15:55:06.176859Z",
          "iopub.execute_input": "2022-01-25T15:55:06.177984Z",
          "iopub.status.idle": "2022-01-25T15:55:10.255023Z",
          "shell.execute_reply.started": "2022-01-25T15:55:06.177939Z",
          "shell.execute_reply": "2022-01-25T15:55:10.254041Z"
        },
        "trusted": true,
        "id": "aeg7e2k4QzxC"
      },
      "execution_count": 23,
      "outputs": []
    },
    {
      "cell_type": "code",
      "source": [
        "h = model.fit(X_train_filter, y_train, epochs=10)"
      ],
      "metadata": {
        "execution": {
          "iopub.status.busy": "2022-01-25T15:55:10.256756Z",
          "iopub.execute_input": "2022-01-25T15:55:10.257314Z",
          "iopub.status.idle": "2022-01-25T15:55:13.545859Z",
          "shell.execute_reply.started": "2022-01-25T15:55:10.257257Z",
          "shell.execute_reply": "2022-01-25T15:55:13.544814Z"
        },
        "trusted": true,
        "colab": {
          "base_uri": "https://localhost:8080/"
        },
        "id": "R-byK_3XQzxC",
        "outputId": "52de1df6-be76-47e1-ff67-8e1265dfb398"
      },
      "execution_count": 24,
      "outputs": [
        {
          "output_type": "stream",
          "name": "stdout",
          "text": [
            "Epoch 1/10\n",
            "25/25 [==============================] - 2s 40ms/step - loss: 1.3753 - accuracy: 0.2775\n",
            "Epoch 2/10\n",
            "25/25 [==============================] - 1s 39ms/step - loss: 1.1426 - accuracy: 0.5288\n",
            "Epoch 3/10\n",
            "25/25 [==============================] - 1s 38ms/step - loss: 0.1937 - accuracy: 0.9525\n",
            "Epoch 4/10\n",
            "25/25 [==============================] - 1s 36ms/step - loss: 0.0343 - accuracy: 0.9887\n",
            "Epoch 5/10\n",
            "25/25 [==============================] - 1s 37ms/step - loss: 0.0056 - accuracy: 0.9987\n",
            "Epoch 6/10\n",
            "25/25 [==============================] - 1s 38ms/step - loss: 0.0013 - accuracy: 1.0000\n",
            "Epoch 7/10\n",
            "25/25 [==============================] - 1s 37ms/step - loss: 5.7147e-04 - accuracy: 1.0000\n",
            "Epoch 8/10\n",
            "25/25 [==============================] - 1s 38ms/step - loss: 3.2154e-04 - accuracy: 1.0000\n",
            "Epoch 9/10\n",
            "25/25 [==============================] - 1s 38ms/step - loss: 2.5482e-04 - accuracy: 1.0000\n",
            "Epoch 10/10\n",
            "25/25 [==============================] - 1s 38ms/step - loss: 2.5853e-04 - accuracy: 1.0000\n"
          ]
        }
      ]
    },
    {
      "cell_type": "code",
      "source": [
        ""
      ],
      "metadata": {
        "id": "JG7SuyY7QzxD"
      },
      "execution_count": null,
      "outputs": []
    }
  ]
}