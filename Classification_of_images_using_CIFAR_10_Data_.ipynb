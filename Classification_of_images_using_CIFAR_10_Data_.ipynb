{
  "nbformat": 4,
  "nbformat_minor": 0,
  "metadata": {
    "colab": {
      "name": "Classification of images using CIFAR-10 Data .ipynb",
      "provenance": [],
      "authorship_tag": "ABX9TyMIYHKUfDlr+ngRKFig7eNy",
      "include_colab_link": true
    },
    "kernelspec": {
      "name": "python3",
      "display_name": "Python 3"
    },
    "language_info": {
      "name": "python"
    },
    "accelerator": "GPU"
  },
  "cells": [
    {
      "cell_type": "markdown",
      "metadata": {
        "id": "view-in-github",
        "colab_type": "text"
      },
      "source": [
        "<a href=\"https://colab.research.google.com/github/sarobar412/machine_learning-and-deep-learning/blob/main/Classification_of_images_using_CIFAR_10_Data_.ipynb\" target=\"_parent\"><img src=\"https://colab.research.google.com/assets/colab-badge.svg\" alt=\"Open In Colab\"/></a>"
      ]
    },
    {
      "cell_type": "markdown",
      "source": [
        "**CLASSIFICATION OF IMAGES IN CIFAR-10 DATASET USING CNN**"
      ],
      "metadata": {
        "id": "c49rqM6pNmP7"
      }
    },
    {
      "cell_type": "markdown",
      "source": [
        "Importing of Libraries"
      ],
      "metadata": {
        "id": "9WSG8cBqOL9i"
      }
    },
    {
      "cell_type": "code",
      "source": [
        "import tensorflow as tf\n",
        "import matplotlib.pyplot as plt\n",
        "import numpy as np\n",
        "import pandas as pd\n",
        "\n",
        "from keras.preprocessing.image import ImageDataGenerator\n",
        "from keras.models import Sequential\n",
        "from keras.layers import Input,Dense, Activation, Flatten, Conv2D, MaxPooling2D"
      ],
      "metadata": {
        "id": "6RII53HHOOta"
      },
      "execution_count": 1,
      "outputs": []
    },
    {
      "cell_type": "markdown",
      "source": [
        "Loading of Dataset"
      ],
      "metadata": {
        "id": "soG5-nhgO76a"
      }
    },
    {
      "cell_type": "code",
      "source": [
        "(X_train, y_train), (X_test,y_test) = tf.keras.datasets.cifar10.load_data()\n",
        "X_train.shape"
      ],
      "metadata": {
        "colab": {
          "base_uri": "https://localhost:8080/"
        },
        "id": "zPVDn2jeOwie",
        "outputId": "eea281fa-9701-4f78-8245-1b5dcaabe68d"
      },
      "execution_count": 2,
      "outputs": [
        {
          "output_type": "execute_result",
          "data": {
            "text/plain": [
              "(50000, 32, 32, 3)"
            ]
          },
          "metadata": {},
          "execution_count": 2
        }
      ]
    },
    {
      "cell_type": "code",
      "source": [
        "X_test.shape"
      ],
      "metadata": {
        "colab": {
          "base_uri": "https://localhost:8080/"
        },
        "id": "05rBsfVNPKAw",
        "outputId": "70d7b040-16e3-4884-98ef-4dad479fa09d"
      },
      "execution_count": 3,
      "outputs": [
        {
          "output_type": "execute_result",
          "data": {
            "text/plain": [
              "(10000, 32, 32, 3)"
            ]
          },
          "metadata": {},
          "execution_count": 3
        }
      ]
    },
    {
      "cell_type": "markdown",
      "source": [
        "So there is 50000 training samples and 10000 testing samples"
      ],
      "metadata": {
        "id": "VyDlpygJPWSE"
      }
    },
    {
      "cell_type": "code",
      "source": [
        "y_train.shape"
      ],
      "metadata": {
        "colab": {
          "base_uri": "https://localhost:8080/"
        },
        "id": "cbpyWkZOPQYo",
        "outputId": "2986e314-0e82-4a09-8c6c-37780a8c43a8"
      },
      "execution_count": 4,
      "outputs": [
        {
          "output_type": "execute_result",
          "data": {
            "text/plain": [
              "(50000, 1)"
            ]
          },
          "metadata": {},
          "execution_count": 4
        }
      ]
    },
    {
      "cell_type": "code",
      "source": [
        "y_train[:5]"
      ],
      "metadata": {
        "colab": {
          "base_uri": "https://localhost:8080/"
        },
        "id": "oR32wOQkPg5j",
        "outputId": "b719f6c0-27df-4e4d-a85e-5c22135ef667"
      },
      "execution_count": 5,
      "outputs": [
        {
          "output_type": "execute_result",
          "data": {
            "text/plain": [
              "array([[6],\n",
              "       [9],\n",
              "       [9],\n",
              "       [4],\n",
              "       [1]], dtype=uint8)"
            ]
          },
          "metadata": {},
          "execution_count": 5
        }
      ]
    },
    {
      "cell_type": "markdown",
      "source": [
        "y_train is a 2D array, for our classification 1D array will do its work successfully. so we will convert this to now 1D array."
      ],
      "metadata": {
        "id": "Rt_RGdwrQPf8"
      }
    },
    {
      "cell_type": "code",
      "source": [
        "y_train = y_train.reshape(-1,)\n",
        "y_train[:5]"
      ],
      "metadata": {
        "colab": {
          "base_uri": "https://localhost:8080/"
        },
        "id": "5MKbwPDtPmF4",
        "outputId": "3f1d74db-11b6-4497-8888-fa9e54d6df7e"
      },
      "execution_count": 6,
      "outputs": [
        {
          "output_type": "execute_result",
          "data": {
            "text/plain": [
              "array([6, 9, 9, 4, 1], dtype=uint8)"
            ]
          },
          "metadata": {},
          "execution_count": 6
        }
      ]
    },
    {
      "cell_type": "code",
      "source": [
        "y_test = y_test.reshape(-1,)"
      ],
      "metadata": {
        "id": "EUyYSjtYQkxW"
      },
      "execution_count": 7,
      "outputs": []
    },
    {
      "cell_type": "markdown",
      "source": [
        "Making the list of classes"
      ],
      "metadata": {
        "id": "jlOuzDeZTL2f"
      }
    },
    {
      "cell_type": "code",
      "source": [
        "classes = [\"airplane\",\"automobile\",\"bird\",\"cat\",\"deer\",\"dog\",\"frog\",\"horse\",\"ship\",\"truck\"]"
      ],
      "metadata": {
        "id": "ByqZHY0DQop7"
      },
      "execution_count": 8,
      "outputs": []
    },
    {
      "cell_type": "markdown",
      "source": [
        "Now Let's see the images"
      ],
      "metadata": {
        "id": "jqseE_BMTbYA"
      }
    },
    {
      "cell_type": "code",
      "source": [
        "def plot_sample(X, y, index):\n",
        "    plt.figure(figsize = (15,2))\n",
        "    plt.imshow(X[index])\n",
        "    plt.xlabel(classes[y[index]])"
      ],
      "metadata": {
        "id": "VViuGKKtTZGe"
      },
      "execution_count": 9,
      "outputs": []
    },
    {
      "cell_type": "code",
      "source": [
        "plot_sample(X_train, y_train, 1)"
      ],
      "metadata": {
        "colab": {
          "base_uri": "https://localhost:8080/",
          "height": 173
        },
        "id": "OZl4V34GTk-y",
        "outputId": "cf7b1c70-eb7e-40c5-cf40-230555d96f2f"
      },
      "execution_count": 10,
      "outputs": [
        {
          "output_type": "display_data",
          "data": {
            "text/plain": [
              "<Figure size 1080x144 with 1 Axes>"
            ],
            "image/png": "[encoded data removed]"
          },
          "metadata": {
            "needs_background": "light"
          }
        }
      ]
    },
    {
      "cell_type": "code",
      "source": [
        "plot_sample(X_train, y_train, 3)"
      ],
      "metadata": {
        "colab": {
          "base_uri": "https://localhost:8080/",
          "height": 173
        },
        "id": "Uy7VUEUZTpkd",
        "outputId": "4b083e22-cbea-4313-9f9e-a1d2ce2aff7a"
      },
      "execution_count": 11,
      "outputs": [
        {
          "output_type": "display_data",
          "data": {
            "text/plain": [
              "<Figure size 1080x144 with 1 Axes>"
            ],
            "image/png": "[encoded data removed]"
          },
          "metadata": {
            "needs_background": "light"
          }
        }
      ]
    },
    {
      "cell_type": "markdown",
      "source": [
        "Normalizing the training data"
      ],
      "metadata": {
        "id": "l1zFjC0bT0Hh"
      }
    },
    {
      "cell_type": "code",
      "source": [
        "X_train = X_train / 255.0\n",
        "X_test = X_test / 255.0"
      ],
      "metadata": {
        "id": "mU2JRvIbTtI0"
      },
      "execution_count": 12,
      "outputs": []
    },
    {
      "cell_type": "markdown",
      "source": [
        "Building the model"
      ],
      "metadata": {
        "id": "5_wQWIxbT4yV"
      }
    },
    {
      "cell_type": "code",
      "source": [
        "from keras.layers import Dropout\n",
        "model = Sequential()\n",
        "model.add(Conv2D(32, (3, 3), padding='same', input_shape=X_train.shape[1:]))\n",
        "model.add(Activation('relu'))\n",
        "model.add(Conv2D(32, (3, 3)))\n",
        "model.add(Activation('relu'))\n",
        "model.add(MaxPooling2D(pool_size=(2, 2)))\n",
        "model.add(Dropout(0.2))\n",
        "\n",
        "model.add(Conv2D(64, (3, 3), padding='same'))\n",
        "model.add(Activation('relu'))\n",
        "model.add(Conv2D(64, (3, 3)))\n",
        "model.add(Activation('relu'))\n",
        "model.add(MaxPooling2D(pool_size=(2, 2)))\n",
        "model.add(Dropout(0.2))\n",
        "\n",
        "model.add(Flatten())\n",
        "model.add(Dense(512))\n",
        "model.add(Activation('relu'))\n",
        "model.add(Dropout(0.25))\n",
        "model.add(Dense(10))\n",
        "model.add(Activation('softmax'))\n",
        "\n",
        "model.compile(loss='sparse_categorical_crossentropy',\n",
        "              optimizer=tf.keras.optimizers.Adam(learning_rate=1e-3),\n",
        "              metrics=['accuracy'])\n"
      ],
      "metadata": {
        "id": "KDpcwYDoT3ry"
      },
      "execution_count": 13,
      "outputs": []
    },
    {
      "cell_type": "code",
      "source": [
        "model.summary()"
      ],
      "metadata": {
        "colab": {
          "base_uri": "https://localhost:8080/"
        },
        "id": "FI0ci_80VFKq",
        "outputId": "f2a512e5-66fb-43bf-bb3b-1d64e062a8bc"
      },
      "execution_count": 14,
      "outputs": [
        {
          "output_type": "stream",
          "name": "stdout",
          "text": [
            "Model: \"sequential\"\n",
            "_________________________________________________________________\n",
            " Layer (type)                Output Shape              Param #   \n",
            "=================================================================\n",
            " conv2d (Conv2D)             (None, 32, 32, 32)        896       \n",
            "                                                                 \n",
            " activation (Activation)     (None, 32, 32, 32)        0         \n",
            "                                                                 \n",
            " conv2d_1 (Conv2D)           (None, 30, 30, 32)        9248      \n",
            "                                                                 \n",
            " activation_1 (Activation)   (None, 30, 30, 32)        0         \n",
            "                                                                 \n",
            " max_pooling2d (MaxPooling2D  (None, 15, 15, 32)       0         \n",
            " )                                                               \n",
            "                                                                 \n",
            " dropout (Dropout)           (None, 15, 15, 32)        0         \n",
            "                                                                 \n",
            " conv2d_2 (Conv2D)           (None, 15, 15, 64)        18496     \n",
            "                                                                 \n",
            " activation_2 (Activation)   (None, 15, 15, 64)        0         \n",
            "                                                                 \n",
            " conv2d_3 (Conv2D)           (None, 13, 13, 64)        36928     \n",
            "                                                                 \n",
            " activation_3 (Activation)   (None, 13, 13, 64)        0         \n",
            "                                                                 \n",
            " max_pooling2d_1 (MaxPooling  (None, 6, 6, 64)         0         \n",
            " 2D)                                                             \n",
            "                                                                 \n",
            " dropout_1 (Dropout)         (None, 6, 6, 64)          0         \n",
            "                                                                 \n",
            " flatten (Flatten)           (None, 2304)              0         \n",
            "                                                                 \n",
            " dense (Dense)               (None, 512)               1180160   \n",
            "                                                                 \n",
            " activation_4 (Activation)   (None, 512)               0         \n",
            "                                                                 \n",
            " dropout_2 (Dropout)         (None, 512)               0         \n",
            "                                                                 \n",
            " dense_1 (Dense)             (None, 10)                5130      \n",
            "                                                                 \n",
            " activation_5 (Activation)   (None, 10)                0         \n",
            "                                                                 \n",
            "=================================================================\n",
            "Total params: 1,250,858\n",
            "Trainable params: 1,250,858\n",
            "Non-trainable params: 0\n",
            "_________________________________________________________________\n"
          ]
        }
      ]
    },
    {
      "cell_type": "code",
      "source": [
        "train_datagen = ImageDataGenerator(\n",
        "    rotation_range = 40,\n",
        "    width_shift_range = 0.2,\n",
        "    height_shift_range=0.1,\n",
        "    horizontal_flip = True,\n",
        "    )\n",
        "train_generator = train_datagen.flow(X_train,\n",
        "                                       y_train,\n",
        "                                       batch_size=32)\n"
      ],
      "metadata": {
        "id": "_uR6AcjLWGog"
      },
      "execution_count": 15,
      "outputs": []
    },
    {
      "cell_type": "code",
      "source": [
        "history = model.fit(train_generator,\n",
        "                    epochs=100, \n",
        "                    validation_data=(X_test, y_test),shuffle=True)"
      ],
      "metadata": {
        "colab": {
          "base_uri": "https://localhost:8080/"
        },
        "id": "cIN2qIHgYwfQ",
        "outputId": "285806c5-fe73-4a56-c54d-e752b2f1dd5f"
      },
      "execution_count": 16,
      "outputs": [
        {
          "output_type": "stream",
          "name": "stdout",
          "text": [
            "Epoch 1/100\n",
            "1563/1563 [==============================] - 32s 19ms/step - loss: 1.7069 - accuracy: 0.3718 - val_loss: 1.4606 - val_accuracy: 0.4717\n",
            "Epoch 2/100\n",
            "1563/1563 [==============================] - 28s 18ms/step - loss: 1.4165 - accuracy: 0.4870 - val_loss: 1.1231 - val_accuracy: 0.5976\n",
            "Epoch 3/100\n",
            "1563/1563 [==============================] - 29s 18ms/step - loss: 1.2776 - accuracy: 0.5438 - val_loss: 1.1582 - val_accuracy: 0.5937\n",
            "Epoch 4/100\n",
            "1563/1563 [==============================] - 28s 18ms/step - loss: 1.2087 - accuracy: 0.5708 - val_loss: 1.0943 - val_accuracy: 0.6218\n",
            "Epoch 5/100\n",
            "1563/1563 [==============================] - 29s 18ms/step - loss: 1.1572 - accuracy: 0.5911 - val_loss: 1.1226 - val_accuracy: 0.6157\n",
            "Epoch 6/100\n",
            "1563/1563 [==============================] - 29s 18ms/step - loss: 1.1145 - accuracy: 0.6049 - val_loss: 0.9191 - val_accuracy: 0.6809\n",
            "Epoch 7/100\n",
            "1563/1563 [==============================] - 28s 18ms/step - loss: 1.0844 - accuracy: 0.6196 - val_loss: 0.8924 - val_accuracy: 0.6891\n",
            "Epoch 8/100\n",
            "1563/1563 [==============================] - 28s 18ms/step - loss: 1.0608 - accuracy: 0.6228 - val_loss: 0.9632 - val_accuracy: 0.6674\n",
            "Epoch 9/100\n",
            "1563/1563 [==============================] - 28s 18ms/step - loss: 1.0418 - accuracy: 0.6320 - val_loss: 0.9409 - val_accuracy: 0.6727\n",
            "Epoch 10/100\n",
            "1563/1563 [==============================] - 28s 18ms/step - loss: 1.0235 - accuracy: 0.6410 - val_loss: 0.9122 - val_accuracy: 0.6883\n",
            "Epoch 11/100\n",
            "1563/1563 [==============================] - 27s 18ms/step - loss: 1.0122 - accuracy: 0.6443 - val_loss: 0.8406 - val_accuracy: 0.7106\n",
            "Epoch 12/100\n",
            "1563/1563 [==============================] - 28s 18ms/step - loss: 0.9940 - accuracy: 0.6488 - val_loss: 0.9005 - val_accuracy: 0.6870\n",
            "Epoch 13/100\n",
            "1563/1563 [==============================] - 28s 18ms/step - loss: 0.9899 - accuracy: 0.6542 - val_loss: 0.8927 - val_accuracy: 0.6945\n",
            "Epoch 14/100\n",
            "1563/1563 [==============================] - 29s 18ms/step - loss: 0.9742 - accuracy: 0.6582 - val_loss: 0.8997 - val_accuracy: 0.6940\n",
            "Epoch 15/100\n",
            "1563/1563 [==============================] - 28s 18ms/step - loss: 0.9744 - accuracy: 0.6580 - val_loss: 0.9673 - val_accuracy: 0.6767\n",
            "Epoch 16/100\n",
            "1563/1563 [==============================] - 29s 18ms/step - loss: 0.9574 - accuracy: 0.6665 - val_loss: 0.7731 - val_accuracy: 0.7321\n",
            "Epoch 17/100\n",
            "1563/1563 [==============================] - 27s 17ms/step - loss: 0.9465 - accuracy: 0.6680 - val_loss: 0.8171 - val_accuracy: 0.7204\n",
            "Epoch 18/100\n",
            "1563/1563 [==============================] - 29s 18ms/step - loss: 0.9417 - accuracy: 0.6702 - val_loss: 0.8735 - val_accuracy: 0.7038\n",
            "Epoch 19/100\n",
            "1563/1563 [==============================] - 27s 17ms/step - loss: 0.9442 - accuracy: 0.6722 - val_loss: 0.8376 - val_accuracy: 0.7089\n",
            "Epoch 20/100\n",
            "1563/1563 [==============================] - 28s 18ms/step - loss: 0.9340 - accuracy: 0.6748 - val_loss: 0.8204 - val_accuracy: 0.7313\n",
            "Epoch 21/100\n",
            "1563/1563 [==============================] - 28s 18ms/step - loss: 0.9230 - accuracy: 0.6786 - val_loss: 0.8870 - val_accuracy: 0.7025\n",
            "Epoch 22/100\n",
            "1563/1563 [==============================] - 28s 18ms/step - loss: 0.9168 - accuracy: 0.6820 - val_loss: 0.9086 - val_accuracy: 0.6969\n",
            "Epoch 23/100\n",
            "1563/1563 [==============================] - 28s 18ms/step - loss: 0.9162 - accuracy: 0.6792 - val_loss: 0.8553 - val_accuracy: 0.7148\n",
            "Epoch 24/100\n",
            "1563/1563 [==============================] - 28s 18ms/step - loss: 0.9085 - accuracy: 0.6832 - val_loss: 0.8259 - val_accuracy: 0.7156\n",
            "Epoch 25/100\n",
            "1563/1563 [==============================] - 27s 17ms/step - loss: 0.9082 - accuracy: 0.6841 - val_loss: 0.8293 - val_accuracy: 0.7214\n",
            "Epoch 26/100\n",
            "1563/1563 [==============================] - 28s 18ms/step - loss: 0.8984 - accuracy: 0.6902 - val_loss: 0.8462 - val_accuracy: 0.7181\n",
            "Epoch 27/100\n",
            "1563/1563 [==============================] - 28s 18ms/step - loss: 0.9040 - accuracy: 0.6848 - val_loss: 0.8141 - val_accuracy: 0.7213\n",
            "Epoch 28/100\n",
            "1563/1563 [==============================] - 28s 18ms/step - loss: 0.8958 - accuracy: 0.6888 - val_loss: 0.8452 - val_accuracy: 0.7137\n",
            "Epoch 29/100\n",
            "1563/1563 [==============================] - 28s 18ms/step - loss: 0.8928 - accuracy: 0.6912 - val_loss: 0.7617 - val_accuracy: 0.7372\n",
            "Epoch 30/100\n",
            "1563/1563 [==============================] - 28s 18ms/step - loss: 0.8911 - accuracy: 0.6899 - val_loss: 0.8076 - val_accuracy: 0.7271\n",
            "Epoch 31/100\n",
            "1563/1563 [==============================] - 29s 18ms/step - loss: 0.8859 - accuracy: 0.6940 - val_loss: 0.7300 - val_accuracy: 0.7526\n",
            "Epoch 32/100\n",
            "1563/1563 [==============================] - 28s 18ms/step - loss: 0.8832 - accuracy: 0.6940 - val_loss: 0.7855 - val_accuracy: 0.7368\n",
            "Epoch 33/100\n",
            "1563/1563 [==============================] - 29s 18ms/step - loss: 0.8770 - accuracy: 0.6956 - val_loss: 0.8052 - val_accuracy: 0.7295\n",
            "Epoch 34/100\n",
            "1563/1563 [==============================] - 28s 18ms/step - loss: 0.8809 - accuracy: 0.6948 - val_loss: 0.8165 - val_accuracy: 0.7235\n",
            "Epoch 35/100\n",
            "1563/1563 [==============================] - 29s 19ms/step - loss: 0.8717 - accuracy: 0.6971 - val_loss: 0.7867 - val_accuracy: 0.7317\n",
            "Epoch 36/100\n",
            "1563/1563 [==============================] - 28s 18ms/step - loss: 0.8649 - accuracy: 0.6988 - val_loss: 0.7929 - val_accuracy: 0.7319\n",
            "Epoch 37/100\n",
            "1563/1563 [==============================] - 29s 18ms/step - loss: 0.8712 - accuracy: 0.6989 - val_loss: 0.8666 - val_accuracy: 0.7126\n",
            "Epoch 38/100\n",
            "1563/1563 [==============================] - 28s 18ms/step - loss: 0.8698 - accuracy: 0.6971 - val_loss: 0.7415 - val_accuracy: 0.7482\n",
            "Epoch 39/100\n",
            "1563/1563 [==============================] - 29s 18ms/step - loss: 0.8616 - accuracy: 0.7015 - val_loss: 0.8132 - val_accuracy: 0.7244\n",
            "Epoch 40/100\n",
            "1563/1563 [==============================] - 28s 18ms/step - loss: 0.8708 - accuracy: 0.6974 - val_loss: 0.8117 - val_accuracy: 0.7249\n",
            "Epoch 41/100\n",
            "1563/1563 [==============================] - 29s 19ms/step - loss: 0.8623 - accuracy: 0.7011 - val_loss: 0.7863 - val_accuracy: 0.7366\n",
            "Epoch 42/100\n",
            "1563/1563 [==============================] - 28s 18ms/step - loss: 0.8668 - accuracy: 0.6997 - val_loss: 0.7754 - val_accuracy: 0.7368\n",
            "Epoch 43/100\n",
            "1563/1563 [==============================] - 29s 19ms/step - loss: 0.8602 - accuracy: 0.7014 - val_loss: 0.8481 - val_accuracy: 0.7189\n",
            "Epoch 44/100\n",
            "1563/1563 [==============================] - 28s 18ms/step - loss: 0.8633 - accuracy: 0.6983 - val_loss: 0.7837 - val_accuracy: 0.7419\n",
            "Epoch 45/100\n",
            "1563/1563 [==============================] - 29s 18ms/step - loss: 0.8591 - accuracy: 0.7000 - val_loss: 0.7415 - val_accuracy: 0.7521\n",
            "Epoch 46/100\n",
            "1563/1563 [==============================] - 28s 18ms/step - loss: 0.8597 - accuracy: 0.7023 - val_loss: 0.7842 - val_accuracy: 0.7345\n",
            "Epoch 47/100\n",
            "1563/1563 [==============================] - 28s 18ms/step - loss: 0.8467 - accuracy: 0.7092 - val_loss: 0.6942 - val_accuracy: 0.7648\n",
            "Epoch 48/100\n",
            "1563/1563 [==============================] - 28s 18ms/step - loss: 0.8433 - accuracy: 0.7083 - val_loss: 0.7623 - val_accuracy: 0.7495\n",
            "Epoch 49/100\n",
            "1563/1563 [==============================] - 28s 18ms/step - loss: 0.8438 - accuracy: 0.7091 - val_loss: 0.7463 - val_accuracy: 0.7498\n",
            "Epoch 50/100\n",
            "1563/1563 [==============================] - 28s 18ms/step - loss: 0.8439 - accuracy: 0.7079 - val_loss: 0.7420 - val_accuracy: 0.7514\n",
            "Epoch 51/100\n",
            "1563/1563 [==============================] - 27s 17ms/step - loss: 0.8426 - accuracy: 0.7068 - val_loss: 0.7859 - val_accuracy: 0.7466\n",
            "Epoch 52/100\n",
            "1563/1563 [==============================] - 28s 18ms/step - loss: 0.8493 - accuracy: 0.7086 - val_loss: 0.7680 - val_accuracy: 0.7386\n",
            "Epoch 53/100\n",
            "1563/1563 [==============================] - 28s 18ms/step - loss: 0.8357 - accuracy: 0.7105 - val_loss: 0.8106 - val_accuracy: 0.7262\n",
            "Epoch 54/100\n",
            "1563/1563 [==============================] - 29s 18ms/step - loss: 0.8390 - accuracy: 0.7092 - val_loss: 0.7490 - val_accuracy: 0.7521\n",
            "Epoch 55/100\n",
            "1563/1563 [==============================] - 27s 17ms/step - loss: 0.8497 - accuracy: 0.7055 - val_loss: 0.7582 - val_accuracy: 0.7429\n",
            "Epoch 56/100\n",
            "1563/1563 [==============================] - 29s 18ms/step - loss: 0.8372 - accuracy: 0.7098 - val_loss: 0.7636 - val_accuracy: 0.7435\n",
            "Epoch 57/100\n",
            "1563/1563 [==============================] - 27s 17ms/step - loss: 0.8381 - accuracy: 0.7115 - val_loss: 0.7154 - val_accuracy: 0.7603\n",
            "Epoch 58/100\n",
            "1563/1563 [==============================] - 29s 18ms/step - loss: 0.8366 - accuracy: 0.7091 - val_loss: 0.7433 - val_accuracy: 0.7568\n",
            "Epoch 59/100\n",
            "1563/1563 [==============================] - 28s 18ms/step - loss: 0.8368 - accuracy: 0.7101 - val_loss: 0.7181 - val_accuracy: 0.7611\n",
            "Epoch 60/100\n",
            "1563/1563 [==============================] - 28s 18ms/step - loss: 0.8371 - accuracy: 0.7113 - val_loss: 0.7453 - val_accuracy: 0.7524\n",
            "Epoch 61/100\n",
            "1563/1563 [==============================] - 28s 18ms/step - loss: 0.8393 - accuracy: 0.7094 - val_loss: 0.7234 - val_accuracy: 0.7508\n",
            "Epoch 62/100\n",
            "1563/1563 [==============================] - 27s 18ms/step - loss: 0.8340 - accuracy: 0.7109 - val_loss: 0.7718 - val_accuracy: 0.7518\n",
            "Epoch 63/100\n",
            "1563/1563 [==============================] - 28s 18ms/step - loss: 0.8267 - accuracy: 0.7163 - val_loss: 0.7479 - val_accuracy: 0.7471\n",
            "Epoch 64/100\n",
            "1563/1563 [==============================] - 27s 17ms/step - loss: 0.8315 - accuracy: 0.7141 - val_loss: 0.7522 - val_accuracy: 0.7500\n",
            "Epoch 65/100\n",
            "1563/1563 [==============================] - 29s 18ms/step - loss: 0.8305 - accuracy: 0.7108 - val_loss: 0.7046 - val_accuracy: 0.7644\n",
            "Epoch 66/100\n",
            "1563/1563 [==============================] - 28s 18ms/step - loss: 0.8280 - accuracy: 0.7140 - val_loss: 0.7618 - val_accuracy: 0.7477\n",
            "Epoch 67/100\n",
            "1563/1563 [==============================] - 29s 19ms/step - loss: 0.8300 - accuracy: 0.7136 - val_loss: 0.6962 - val_accuracy: 0.7703\n",
            "Epoch 68/100\n",
            "1563/1563 [==============================] - 27s 17ms/step - loss: 0.8307 - accuracy: 0.7115 - val_loss: 0.8139 - val_accuracy: 0.7263\n",
            "Epoch 69/100\n",
            "1563/1563 [==============================] - 29s 18ms/step - loss: 0.8215 - accuracy: 0.7162 - val_loss: 0.7399 - val_accuracy: 0.7522\n",
            "Epoch 70/100\n",
            "1563/1563 [==============================] - 28s 18ms/step - loss: 0.8261 - accuracy: 0.7151 - val_loss: 0.8093 - val_accuracy: 0.7290\n",
            "Epoch 71/100\n",
            "1563/1563 [==============================] - 29s 18ms/step - loss: 0.8237 - accuracy: 0.7150 - val_loss: 0.7281 - val_accuracy: 0.7527\n",
            "Epoch 72/100\n",
            "1563/1563 [==============================] - 27s 18ms/step - loss: 0.8227 - accuracy: 0.7155 - val_loss: 0.7090 - val_accuracy: 0.7572\n",
            "Epoch 73/100\n",
            "1563/1563 [==============================] - 28s 18ms/step - loss: 0.8191 - accuracy: 0.7170 - val_loss: 0.7982 - val_accuracy: 0.7392\n",
            "Epoch 74/100\n",
            "1563/1563 [==============================] - 28s 18ms/step - loss: 0.8232 - accuracy: 0.7157 - val_loss: 0.7713 - val_accuracy: 0.7441\n",
            "Epoch 75/100\n",
            "1563/1563 [==============================] - 28s 18ms/step - loss: 0.8180 - accuracy: 0.7192 - val_loss: 0.7180 - val_accuracy: 0.7670\n",
            "Epoch 76/100\n",
            "1563/1563 [==============================] - 28s 18ms/step - loss: 0.8196 - accuracy: 0.7172 - val_loss: 0.7460 - val_accuracy: 0.7529\n",
            "Epoch 77/100\n",
            "1563/1563 [==============================] - 27s 18ms/step - loss: 0.8144 - accuracy: 0.7200 - val_loss: 0.7793 - val_accuracy: 0.7404\n",
            "Epoch 78/100\n",
            "1563/1563 [==============================] - 28s 18ms/step - loss: 0.8159 - accuracy: 0.7167 - val_loss: 0.7633 - val_accuracy: 0.7483\n",
            "Epoch 79/100\n",
            "1563/1563 [==============================] - 27s 17ms/step - loss: 0.8189 - accuracy: 0.7178 - val_loss: 0.7474 - val_accuracy: 0.7473\n",
            "Epoch 80/100\n",
            "1563/1563 [==============================] - 29s 18ms/step - loss: 0.8227 - accuracy: 0.7163 - val_loss: 0.7176 - val_accuracy: 0.7547\n",
            "Epoch 81/100\n",
            "1563/1563 [==============================] - 27s 17ms/step - loss: 0.8181 - accuracy: 0.7179 - val_loss: 0.8550 - val_accuracy: 0.7178\n",
            "Epoch 82/100\n",
            "1563/1563 [==============================] - 29s 19ms/step - loss: 0.8142 - accuracy: 0.7183 - val_loss: 0.6886 - val_accuracy: 0.7675\n",
            "Epoch 83/100\n",
            "1563/1563 [==============================] - 27s 17ms/step - loss: 0.8176 - accuracy: 0.7182 - val_loss: 0.8258 - val_accuracy: 0.7262\n",
            "Epoch 84/100\n",
            "1563/1563 [==============================] - 29s 18ms/step - loss: 0.8198 - accuracy: 0.7182 - val_loss: 0.7156 - val_accuracy: 0.7598\n",
            "Epoch 85/100\n",
            "1563/1563 [==============================] - 28s 18ms/step - loss: 0.8191 - accuracy: 0.7174 - val_loss: 0.7034 - val_accuracy: 0.7650\n",
            "Epoch 86/100\n",
            "1563/1563 [==============================] - 28s 18ms/step - loss: 0.8193 - accuracy: 0.7186 - val_loss: 0.8023 - val_accuracy: 0.7350\n",
            "Epoch 87/100\n",
            "1563/1563 [==============================] - 28s 18ms/step - loss: 0.8107 - accuracy: 0.7188 - val_loss: 0.7922 - val_accuracy: 0.7409\n",
            "Epoch 88/100\n",
            "1563/1563 [==============================] - 28s 18ms/step - loss: 0.8174 - accuracy: 0.7201 - val_loss: 0.8175 - val_accuracy: 0.7314\n",
            "Epoch 89/100\n",
            "1563/1563 [==============================] - 27s 17ms/step - loss: 0.8128 - accuracy: 0.7206 - val_loss: 0.7063 - val_accuracy: 0.7614\n",
            "Epoch 90/100\n",
            "1563/1563 [==============================] - 29s 18ms/step - loss: 0.8090 - accuracy: 0.7201 - val_loss: 0.8145 - val_accuracy: 0.7296\n",
            "Epoch 91/100\n",
            "1563/1563 [==============================] - 27s 17ms/step - loss: 0.8060 - accuracy: 0.7248 - val_loss: 0.7509 - val_accuracy: 0.7421\n",
            "Epoch 92/100\n",
            "1563/1563 [==============================] - 29s 18ms/step - loss: 0.8024 - accuracy: 0.7222 - val_loss: 0.7060 - val_accuracy: 0.7639\n",
            "Epoch 93/100\n",
            "1563/1563 [==============================] - 27s 17ms/step - loss: 0.8102 - accuracy: 0.7208 - val_loss: 0.7834 - val_accuracy: 0.7448\n",
            "Epoch 94/100\n",
            "1563/1563 [==============================] - 28s 18ms/step - loss: 0.8038 - accuracy: 0.7245 - val_loss: 0.7247 - val_accuracy: 0.7565\n",
            "Epoch 95/100\n",
            "1563/1563 [==============================] - 28s 18ms/step - loss: 0.8065 - accuracy: 0.7232 - val_loss: 0.6986 - val_accuracy: 0.7697\n",
            "Epoch 96/100\n",
            "1563/1563 [==============================] - 28s 18ms/step - loss: 0.8040 - accuracy: 0.7227 - val_loss: 0.7299 - val_accuracy: 0.7578\n",
            "Epoch 97/100\n",
            "1563/1563 [==============================] - 28s 18ms/step - loss: 0.8050 - accuracy: 0.7207 - val_loss: 0.7303 - val_accuracy: 0.7597\n",
            "Epoch 98/100\n",
            "1563/1563 [==============================] - 27s 18ms/step - loss: 0.8089 - accuracy: 0.7230 - val_loss: 0.7454 - val_accuracy: 0.7514\n",
            "Epoch 99/100\n",
            "1563/1563 [==============================] - 28s 18ms/step - loss: 0.7944 - accuracy: 0.7255 - val_loss: 0.7316 - val_accuracy: 0.7638\n",
            "Epoch 100/100\n",
            "1563/1563 [==============================] - 27s 18ms/step - loss: 0.8078 - accuracy: 0.7221 - val_loss: 0.7508 - val_accuracy: 0.7520\n"
          ]
        }
      ]
    },
    {
      "cell_type": "code",
      "source": [
        "acc=history.history['accuracy']\n",
        "val_acc=history.history['val_accuracy']\n",
        "loss=history.history['loss']\n",
        "val_loss=history.history['val_loss']\n",
        "\n",
        "epochs=range(len(acc)) # Get number of epochs\n",
        "\n",
        "#------------------------------------------------\n",
        "# Plot training and validation accuracy per epoch\n",
        "#------------------------------------------------\n",
        "plt.plot(epochs, acc, 'r', \"Training Accuracy\")\n",
        "plt.plot(epochs, val_acc, 'b', \"Validation Accuracy\")\n",
        "plt.title('Training and validation accuracy')\n",
        "plt.show()\n",
        "print(\"\")\n",
        "\n",
        "#------------------------------------------------\n",
        "# Plot training and validation loss per epoch\n",
        "#------------------------------------------------\n",
        "plt.plot(epochs, loss, 'r', \"Training Loss\")\n",
        "plt.plot(epochs, val_loss, 'b', \"Validation Loss\")\n",
        "plt.show()"
      ],
      "metadata": {
        "colab": {
          "base_uri": "https://localhost:8080/",
          "height": 546
        },
        "id": "My3BhiJZoLTY",
        "outputId": "2366f460-abc2-4706-ddeb-5b358ca126d4"
      },
      "execution_count": 17,
      "outputs": [
        {
          "output_type": "display_data",
          "data": {
            "text/plain": [
              "<Figure size 432x288 with 1 Axes>"
            ],
            "image/png": "[encoded data removed]"
          },
          "metadata": {
            "needs_background": "light"
          }
        },
        {
          "output_type": "stream",
          "name": "stdout",
          "text": [
            "\n"
          ]
        },
        {
          "output_type": "display_data",
          "data": {
            "text/plain": [
              "<Figure size 432x288 with 1 Axes>"
            ],
            "image/png": "[encoded data removed]"
          },
          "metadata": {
            "needs_background": "light"
          }
        }
      ]
    },
    {
      "cell_type": "code",
      "source": [
        "y_pred = model.predict(X_test)\n",
        "y_pred[:5]"
      ],
      "metadata": {
        "colab": {
          "base_uri": "https://localhost:8080/"
        },
        "id": "4xlUKFIqBp53",
        "outputId": "c2a24a7d-b136-4e7e-f396-86237e094b86"
      },
      "execution_count": 18,
      "outputs": [
        {
          "output_type": "execute_result",
          "data": {
            "text/plain": [
              "array([[3.07018380e-03, 6.55066222e-02, 1.13749839e-02, 4.64523315e-01,\n",
              "        1.96910277e-03, 1.23517349e-01, 3.06753553e-02, 2.23351060e-03,\n",
              "        3.97190489e-02, 2.57410556e-01],\n",
              "       [6.59610610e-04, 3.14161507e-03, 1.08772336e-09, 4.06084472e-10,\n",
              "        8.33982026e-13, 2.45581668e-14, 1.30781667e-14, 2.89028458e-13,\n",
              "        9.96082664e-01, 1.16160474e-04],\n",
              "       [2.21686251e-03, 6.17063828e-02, 4.95887980e-06, 9.65774889e-05,\n",
              "        2.09778335e-07, 1.22617976e-07, 1.93887195e-06, 1.00703301e-06,\n",
              "        9.26216960e-01, 9.75498650e-03],\n",
              "       [2.00978413e-01, 4.60760266e-01, 4.03375505e-03, 1.17108924e-02,\n",
              "        9.09584807e-04, 9.70252368e-05, 7.76094203e-06, 3.10564297e-04,\n",
              "        2.75893867e-01, 4.52978760e-02],\n",
              "       [4.07397316e-08, 9.86975920e-07, 5.44062816e-03, 8.08062847e-04,\n",
              "        4.57006134e-03, 4.13398766e-06, 9.89169776e-01, 1.03937147e-07,\n",
              "        6.42772420e-07, 5.61828301e-06]], dtype=float32)"
            ]
          },
          "metadata": {},
          "execution_count": 18
        }
      ]
    },
    {
      "cell_type": "code",
      "source": [
        "y_classes = [np.argmax(element) for element in y_pred]\n",
        "y_classes[:5]"
      ],
      "metadata": {
        "colab": {
          "base_uri": "https://localhost:8080/"
        },
        "id": "NKV7R6BGB8ay",
        "outputId": "75a7d315-8614-4305-d064-f66515620fee"
      },
      "execution_count": 19,
      "outputs": [
        {
          "output_type": "execute_result",
          "data": {
            "text/plain": [
              "[3, 8, 8, 1, 6]"
            ]
          },
          "metadata": {},
          "execution_count": 19
        }
      ]
    },
    {
      "cell_type": "code",
      "source": [
        "y_test[:5]"
      ],
      "metadata": {
        "colab": {
          "base_uri": "https://localhost:8080/"
        },
        "id": "W2AZsrklCCAy",
        "outputId": "0efae692-7e20-482c-918c-01fb7952b2cf"
      },
      "execution_count": 20,
      "outputs": [
        {
          "output_type": "execute_result",
          "data": {
            "text/plain": [
              "array([3, 8, 8, 0, 6], dtype=uint8)"
            ]
          },
          "metadata": {},
          "execution_count": 20
        }
      ]
    },
    {
      "cell_type": "code",
      "source": [
        "plot_sample(X_test, y_test,6)"
      ],
      "metadata": {
        "colab": {
          "base_uri": "https://localhost:8080/",
          "height": 173
        },
        "id": "4E9T6Lw-CGmT",
        "outputId": "e0d918de-29aa-4543-f463-b44d7336cb45"
      },
      "execution_count": 24,
      "outputs": [
        {
          "output_type": "display_data",
          "data": {
            "text/plain": [
              "<Figure size 1080x144 with 1 Axes>"
            ],
            "image/png": "[encoded data removed]"
          },
          "metadata": {
            "needs_background": "light"
          }
        }
      ]
    },
    {
      "cell_type": "code",
      "source": [
        "classes[y_classes[6]]"
      ],
      "metadata": {
        "colab": {
          "base_uri": "https://localhost:8080/",
          "height": 36
        },
        "id": "i8UEdodICLZR",
        "outputId": "ca7c1f77-3af0-4550-cdf3-021cece94efd"
      },
      "execution_count": 25,
      "outputs": [
        {
          "output_type": "execute_result",
          "data": {
            "text/plain": [
              "'automobile'"
            ],
            "application/vnd.google.colaboratory.intrinsic+json": {
              "type": "string"
            }
          },
          "metadata": {},
          "execution_count": 25
        }
      ]
    },
    {
      "cell_type": "code",
      "source": [
        ""
      ],
      "metadata": {
        "id": "c8BQLJi5CZFd"
      },
      "execution_count": null,
      "outputs": []
    }
  ]
}